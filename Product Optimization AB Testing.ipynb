{
 "cells": [
  {
   "cell_type": "code",
   "execution_count": 1,
   "id": "fdc992bd-e2ee-44d8-9c61-6ace9cefe9cf",
   "metadata": {},
   "outputs": [],
   "source": [
    "import pandas as pd\n",
    "import matplotlib.pyplot as plt\n",
    "from scipy.stats import chi2_contingency"
   ]
  },
  {
   "cell_type": "code",
   "execution_count": 2,
   "id": "c98e0c03-0b64-4c1f-ab83-7f8ec0dc36d4",
   "metadata": {},
   "outputs": [
    {
     "data": {
      "text/html": [
       "<div>\n",
       "<style scoped>\n",
       "    .dataframe tbody tr th:only-of-type {\n",
       "        vertical-align: middle;\n",
       "    }\n",
       "\n",
       "    .dataframe tbody tr th {\n",
       "        vertical-align: top;\n",
       "    }\n",
       "\n",
       "    .dataframe thead th {\n",
       "        text-align: right;\n",
       "    }\n",
       "</style>\n",
       "<table border=\"1\" class=\"dataframe\">\n",
       "  <thead>\n",
       "    <tr style=\"text-align: right;\">\n",
       "      <th></th>\n",
       "      <th>customer_id</th>\n",
       "      <th>Recommendation_name</th>\n",
       "      <th>Recommendation_date</th>\n",
       "      <th>suggestion_type</th>\n",
       "      <th>purchase_flag</th>\n",
       "    </tr>\n",
       "  </thead>\n",
       "  <tbody>\n",
       "    <tr>\n",
       "      <th>0</th>\n",
       "      <td>1.0</td>\n",
       "      <td>Recommend_screenguard</td>\n",
       "      <td>7/2/2021</td>\n",
       "      <td>With phone</td>\n",
       "      <td>0.0</td>\n",
       "    </tr>\n",
       "    <tr>\n",
       "      <th>1</th>\n",
       "      <td>2.0</td>\n",
       "      <td>Recommend_screenguard</td>\n",
       "      <td>7/3/2021</td>\n",
       "      <td>With phone</td>\n",
       "      <td>0.0</td>\n",
       "    </tr>\n",
       "    <tr>\n",
       "      <th>2</th>\n",
       "      <td>3.0</td>\n",
       "      <td>Recommend_screenguard</td>\n",
       "      <td>7/4/2021</td>\n",
       "      <td>With cover</td>\n",
       "      <td>1.0</td>\n",
       "    </tr>\n",
       "    <tr>\n",
       "      <th>3</th>\n",
       "      <td>4.0</td>\n",
       "      <td>Recommend_screenguard</td>\n",
       "      <td>7/5/2021</td>\n",
       "      <td>With phone</td>\n",
       "      <td>0.0</td>\n",
       "    </tr>\n",
       "    <tr>\n",
       "      <th>4</th>\n",
       "      <td>5.0</td>\n",
       "      <td>Recommend_screenguard</td>\n",
       "      <td>7/6/2021</td>\n",
       "      <td>With cover</td>\n",
       "      <td>1.0</td>\n",
       "    </tr>\n",
       "  </tbody>\n",
       "</table>\n",
       "</div>"
      ],
      "text/plain": [
       "   customer_id    Recommendation_name Recommendation_date suggestion_type  \\\n",
       "0          1.0  Recommend_screenguard            7/2/2021      With phone   \n",
       "1          2.0  Recommend_screenguard            7/3/2021      With phone   \n",
       "2          3.0  Recommend_screenguard            7/4/2021      With cover   \n",
       "3          4.0  Recommend_screenguard            7/5/2021      With phone   \n",
       "4          5.0  Recommend_screenguard            7/6/2021      With cover   \n",
       "\n",
       "   purchase_flag  \n",
       "0            0.0  \n",
       "1            0.0  \n",
       "2            1.0  \n",
       "3            0.0  \n",
       "4            1.0  "
      ]
     },
     "execution_count": 2,
     "metadata": {},
     "output_type": "execute_result"
    }
   ],
   "source": [
    "df = pd.read_csv(r\"C:\\Users\\KAREN J FERNANDES\\anaconda3\\Files\\AB Testing\\recommendation_data.csv\")\n",
    "df.head()"
   ]
  },
  {
   "cell_type": "markdown",
   "id": "4d8518dd-377d-4955-a0c4-bb5f09d0b723",
   "metadata": {},
   "source": [
    "### Data Cleaning"
   ]
  },
  {
   "cell_type": "code",
   "execution_count": 3,
   "id": "1a421b95-2f96-471a-9dae-8423d10d07d3",
   "metadata": {},
   "outputs": [
    {
     "data": {
      "text/html": [
       "<div>\n",
       "<style scoped>\n",
       "    .dataframe tbody tr th:only-of-type {\n",
       "        vertical-align: middle;\n",
       "    }\n",
       "\n",
       "    .dataframe tbody tr th {\n",
       "        vertical-align: top;\n",
       "    }\n",
       "\n",
       "    .dataframe thead th {\n",
       "        text-align: right;\n",
       "    }\n",
       "</style>\n",
       "<table border=\"1\" class=\"dataframe\">\n",
       "  <thead>\n",
       "    <tr style=\"text-align: right;\">\n",
       "      <th></th>\n",
       "      <th>customer_id</th>\n",
       "      <th>recommendation_name</th>\n",
       "      <th>recommendation_date</th>\n",
       "      <th>suggestion_type</th>\n",
       "      <th>purchase_flag</th>\n",
       "    </tr>\n",
       "  </thead>\n",
       "  <tbody>\n",
       "    <tr>\n",
       "      <th>0</th>\n",
       "      <td>1.0</td>\n",
       "      <td>Recommend_screenguard</td>\n",
       "      <td>7/2/2021</td>\n",
       "      <td>With phone</td>\n",
       "      <td>0.0</td>\n",
       "    </tr>\n",
       "    <tr>\n",
       "      <th>1</th>\n",
       "      <td>2.0</td>\n",
       "      <td>Recommend_screenguard</td>\n",
       "      <td>7/3/2021</td>\n",
       "      <td>With phone</td>\n",
       "      <td>0.0</td>\n",
       "    </tr>\n",
       "    <tr>\n",
       "      <th>2</th>\n",
       "      <td>3.0</td>\n",
       "      <td>Recommend_screenguard</td>\n",
       "      <td>7/4/2021</td>\n",
       "      <td>With cover</td>\n",
       "      <td>1.0</td>\n",
       "    </tr>\n",
       "    <tr>\n",
       "      <th>3</th>\n",
       "      <td>4.0</td>\n",
       "      <td>Recommend_screenguard</td>\n",
       "      <td>7/5/2021</td>\n",
       "      <td>With phone</td>\n",
       "      <td>0.0</td>\n",
       "    </tr>\n",
       "    <tr>\n",
       "      <th>4</th>\n",
       "      <td>5.0</td>\n",
       "      <td>Recommend_screenguard</td>\n",
       "      <td>7/6/2021</td>\n",
       "      <td>With cover</td>\n",
       "      <td>1.0</td>\n",
       "    </tr>\n",
       "  </tbody>\n",
       "</table>\n",
       "</div>"
      ],
      "text/plain": [
       "   customer_id    recommendation_name recommendation_date suggestion_type  \\\n",
       "0          1.0  Recommend_screenguard            7/2/2021      With phone   \n",
       "1          2.0  Recommend_screenguard            7/3/2021      With phone   \n",
       "2          3.0  Recommend_screenguard            7/4/2021      With cover   \n",
       "3          4.0  Recommend_screenguard            7/5/2021      With phone   \n",
       "4          5.0  Recommend_screenguard            7/6/2021      With cover   \n",
       "\n",
       "   purchase_flag  \n",
       "0            0.0  \n",
       "1            0.0  \n",
       "2            1.0  \n",
       "3            0.0  \n",
       "4            1.0  "
      ]
     },
     "execution_count": 3,
     "metadata": {},
     "output_type": "execute_result"
    }
   ],
   "source": [
    "# headers to lower case\n",
    "df.columns = df.columns.str.lower()\n",
    "df.head()"
   ]
  },
  {
   "cell_type": "code",
   "execution_count": 4,
   "id": "308d8b0f-431b-4a7a-95ce-382c9d2fa0af",
   "metadata": {},
   "outputs": [
    {
     "data": {
      "text/plain": [
       "(868, 5)"
      ]
     },
     "execution_count": 4,
     "metadata": {},
     "output_type": "execute_result"
    }
   ],
   "source": [
    "#total rows and columns\n",
    "df.shape"
   ]
  },
  {
   "cell_type": "code",
   "execution_count": 5,
   "id": "ec919bfd-cfde-4afa-bcbd-0b8a63e2361e",
   "metadata": {},
   "outputs": [
    {
     "data": {
      "text/plain": [
       "156"
      ]
     },
     "execution_count": 5,
     "metadata": {},
     "output_type": "execute_result"
    }
   ],
   "source": [
    "# checking for total sum of duplicates\n",
    "df.duplicated().sum()"
   ]
  },
  {
   "cell_type": "code",
   "execution_count": 6,
   "id": "320a81d3-3d6d-4521-abe2-74e329c79c1e",
   "metadata": {},
   "outputs": [],
   "source": [
    "# dropping nulls\n",
    "df.dropna(inplace=True)"
   ]
  },
  {
   "cell_type": "code",
   "execution_count": 7,
   "id": "4297818c-02f6-453e-be26-33ff4e1a3fd9",
   "metadata": {},
   "outputs": [
    {
     "data": {
      "text/plain": [
       "customer_id            0\n",
       "recommendation_name    0\n",
       "recommendation_date    0\n",
       "suggestion_type        0\n",
       "purchase_flag          0\n",
       "dtype: int64"
      ]
     },
     "execution_count": 7,
     "metadata": {},
     "output_type": "execute_result"
    }
   ],
   "source": [
    "# checking for total sum of nulls\n",
    "df.isnull().sum()"
   ]
  },
  {
   "cell_type": "code",
   "execution_count": 8,
   "id": "3cfec70e-f2f9-4dc6-bdd9-d27d81f72c1e",
   "metadata": {},
   "outputs": [
    {
     "data": {
      "text/plain": [
       "(711, 5)"
      ]
     },
     "execution_count": 8,
     "metadata": {},
     "output_type": "execute_result"
    }
   ],
   "source": [
    "df.shape"
   ]
  },
  {
   "cell_type": "code",
   "execution_count": 9,
   "id": "99d8d584-fa77-4c5e-8a19-abe2568e4e26",
   "metadata": {},
   "outputs": [
    {
     "data": {
      "text/plain": [
       "customer_id            float64\n",
       "recommendation_name     object\n",
       "recommendation_date     object\n",
       "suggestion_type         object\n",
       "purchase_flag          float64\n",
       "dtype: object"
      ]
     },
     "execution_count": 9,
     "metadata": {},
     "output_type": "execute_result"
    }
   ],
   "source": [
    "# checking data types\n",
    "df.dtypes"
   ]
  },
  {
   "cell_type": "code",
   "execution_count": 10,
   "id": "f78f639c-4e97-4539-98b3-3fab81f9a885",
   "metadata": {},
   "outputs": [],
   "source": [
    "df['recommendation_date'] = pd.to_datetime(df['recommendation_date'])"
   ]
  },
  {
   "cell_type": "code",
   "execution_count": 11,
   "id": "1cbb8dc1-5241-4751-8f92-004e76ab1c7d",
   "metadata": {},
   "outputs": [
    {
     "data": {
      "text/html": [
       "<div>\n",
       "<style scoped>\n",
       "    .dataframe tbody tr th:only-of-type {\n",
       "        vertical-align: middle;\n",
       "    }\n",
       "\n",
       "    .dataframe tbody tr th {\n",
       "        vertical-align: top;\n",
       "    }\n",
       "\n",
       "    .dataframe thead th {\n",
       "        text-align: right;\n",
       "    }\n",
       "</style>\n",
       "<table border=\"1\" class=\"dataframe\">\n",
       "  <thead>\n",
       "    <tr style=\"text-align: right;\">\n",
       "      <th></th>\n",
       "      <th>customer_id</th>\n",
       "      <th>recommendation_name</th>\n",
       "      <th>recommendation_date</th>\n",
       "      <th>suggestion_type</th>\n",
       "      <th>purchase_flag</th>\n",
       "    </tr>\n",
       "  </thead>\n",
       "  <tbody>\n",
       "    <tr>\n",
       "      <th>0</th>\n",
       "      <td>1.0</td>\n",
       "      <td>Recommend_screenguard</td>\n",
       "      <td>2021-07-02</td>\n",
       "      <td>With phone</td>\n",
       "      <td>0.0</td>\n",
       "    </tr>\n",
       "    <tr>\n",
       "      <th>1</th>\n",
       "      <td>2.0</td>\n",
       "      <td>Recommend_screenguard</td>\n",
       "      <td>2021-07-03</td>\n",
       "      <td>With phone</td>\n",
       "      <td>0.0</td>\n",
       "    </tr>\n",
       "    <tr>\n",
       "      <th>2</th>\n",
       "      <td>3.0</td>\n",
       "      <td>Recommend_screenguard</td>\n",
       "      <td>2021-07-04</td>\n",
       "      <td>With cover</td>\n",
       "      <td>1.0</td>\n",
       "    </tr>\n",
       "    <tr>\n",
       "      <th>3</th>\n",
       "      <td>4.0</td>\n",
       "      <td>Recommend_screenguard</td>\n",
       "      <td>2021-07-05</td>\n",
       "      <td>With phone</td>\n",
       "      <td>0.0</td>\n",
       "    </tr>\n",
       "    <tr>\n",
       "      <th>4</th>\n",
       "      <td>5.0</td>\n",
       "      <td>Recommend_screenguard</td>\n",
       "      <td>2021-07-06</td>\n",
       "      <td>With cover</td>\n",
       "      <td>1.0</td>\n",
       "    </tr>\n",
       "  </tbody>\n",
       "</table>\n",
       "</div>"
      ],
      "text/plain": [
       "   customer_id    recommendation_name recommendation_date suggestion_type  \\\n",
       "0          1.0  Recommend_screenguard          2021-07-02      With phone   \n",
       "1          2.0  Recommend_screenguard          2021-07-03      With phone   \n",
       "2          3.0  Recommend_screenguard          2021-07-04      With cover   \n",
       "3          4.0  Recommend_screenguard          2021-07-05      With phone   \n",
       "4          5.0  Recommend_screenguard          2021-07-06      With cover   \n",
       "\n",
       "   purchase_flag  \n",
       "0            0.0  \n",
       "1            0.0  \n",
       "2            1.0  \n",
       "3            0.0  \n",
       "4            1.0  "
      ]
     },
     "execution_count": 11,
     "metadata": {},
     "output_type": "execute_result"
    }
   ],
   "source": [
    "df.head()"
   ]
  },
  {
   "cell_type": "code",
   "execution_count": 12,
   "id": "b4c4bbed-3c7e-440a-8be7-1f294fe97509",
   "metadata": {},
   "outputs": [
    {
     "data": {
      "text/plain": [
       "customer_id                   float64\n",
       "recommendation_name            object\n",
       "recommendation_date    datetime64[ns]\n",
       "suggestion_type                object\n",
       "purchase_flag                 float64\n",
       "dtype: object"
      ]
     },
     "execution_count": 12,
     "metadata": {},
     "output_type": "execute_result"
    }
   ],
   "source": [
    "# checking data types\n",
    "df.dtypes"
   ]
  },
  {
   "cell_type": "markdown",
   "id": "cab5ded1-ef04-4e90-be92-3863f9f0c9cf",
   "metadata": {},
   "source": [
    "### A/B Testing"
   ]
  },
  {
   "cell_type": "code",
   "execution_count": 13,
   "id": "36b0e0d6-58a1-4cfa-9e9c-56b0821c1fa1",
   "metadata": {},
   "outputs": [
    {
     "name": "stdout",
     "output_type": "stream",
     "text": [
      "Control group size: 375\n",
      "Test group size: 336\n"
     ]
    }
   ],
   "source": [
    "# define control and test groups\n",
    "control_group = df[df['suggestion_type'] == 'With phone']\n",
    "test_group = df[df['suggestion_type'] == 'With cover']\n",
    "\n",
    "# display the size of each group\n",
    "print(f\"Control group size: {len(control_group)}\")\n",
    "print(f\"Test group size: {len(test_group)}\")"
   ]
  },
  {
   "cell_type": "code",
   "execution_count": 14,
   "id": "3f132e68-0be2-48db-91af-c8172bc9fb27",
   "metadata": {},
   "outputs": [
    {
     "name": "stdout",
     "output_type": "stream",
     "text": [
      "Control group conversion rate: 31.20%\n",
      "Test group conversion rate: 38.69%\n"
     ]
    }
   ],
   "source": [
    "# calculate conversion rates\n",
    "control_conversion_rate = control_group['purchase_flag'].mean()\n",
    "test_conversion_rate = test_group['purchase_flag'].mean()\n",
    "\n",
    "print(f\"Control group conversion rate: {control_conversion_rate:.2%}\")\n",
    "print(f\"Test group conversion rate: {test_conversion_rate:.2%}\")"
   ]
  },
  {
   "cell_type": "code",
   "execution_count": 15,
   "id": "1e7a51b1-3e59-4cf3-a143-e7a6a207ee70",
   "metadata": {},
   "outputs": [
    {
     "name": "stdout",
     "output_type": "stream",
     "text": [
      "Chi-squared test statistic: 4.061579280024079\n",
      "P-value: 0.04386945305215398\n"
     ]
    }
   ],
   "source": [
    "# create a contingency table\n",
    "contingency_table = pd.crosstab(df['suggestion_type'], df['purchase_flag'])\n",
    "\n",
    "# perform chi-squared test\n",
    "chi2, p, _, _ = chi2_contingency(contingency_table)\n",
    "\n",
    "print(f\"Chi-squared test statistic: {chi2}\")\n",
    "print(f\"P-value: {p}\")"
   ]
  },
  {
   "cell_type": "code",
   "execution_count": 16,
   "id": "b6bdabb1-6446-4e5f-825a-cde05648cf51",
   "metadata": {},
   "outputs": [
    {
     "name": "stdout",
     "output_type": "stream",
     "text": [
      "Reject the null hypothesis (H0). There is a significant difference in conversion rates.\n"
     ]
    }
   ],
   "source": [
    "# significance level\n",
    "alpha = 0.05  \n",
    "if p < alpha:\n",
    "    print(\"Reject the null hypothesis (H0). There is a significant difference in conversion rates.\")\n",
    "else:\n",
    "    print(\"Fail to reject the null hypothesis (H0). There is no significant difference in conversion rates.\")"
   ]
  },
  {
   "cell_type": "code",
   "execution_count": 17,
   "id": "363a20d0-d46a-46d5-80e0-829127f0e3f0",
   "metadata": {},
   "outputs": [
    {
     "data": {
      "image/png": "[encoded data removed]",
      "text/plain": [
       "<Figure size 640x480 with 1 Axes>"
      ]
     },
     "metadata": {},
     "output_type": "display_data"
    }
   ],
   "source": [
    "conversion_rates = [control_conversion_rate, test_conversion_rate]\n",
    "labels = ['Control Group', 'Test Group']\n",
    "\n",
    "plt.bar(labels, conversion_rates, color=['blue', 'orange'])\n",
    "plt.xlabel('Group')\n",
    "plt.ylabel('Conversion Rate')\n",
    "plt.title('Conversion Rates: Control vs Test Group')\n",
    "plt.show()"
   ]
  }
 ],
 "metadata": {
  "kernelspec": {
   "display_name": "Python 3 (ipykernel)",
   "language": "python",
   "name": "python3"
  },
  "language_info": {
   "codemirror_mode": {
    "name": "ipython",
    "version": 3
   },
   "file_extension": ".py",
   "mimetype": "text/x-python",
   "name": "python",
   "nbconvert_exporter": "python",
   "pygments_lexer": "ipython3",
   "version": "3.12.2"
  }
 },
 "nbformat": 4,
 "nbformat_minor": 5
}
